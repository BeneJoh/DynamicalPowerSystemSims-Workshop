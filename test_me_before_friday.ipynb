{
 "cells": [
  {
   "cell_type": "code",
   "execution_count": null,
   "metadata": {},
   "outputs": [],
   "source": [
    "import numpy as np\n",
    "import matplotlib.pyplot as plt \n",
    "import networkx as nx\n",
    "from scipy.integrate import solve_ivp\n",
    "print(\"Packages loaded successfully\")\n",
    "\n",
    "from source.coupled_swing_systems import SmibSystem\n",
    "print(\"Classes loaded successfully\")\n",
    "\n",
    "print(\"Ready to go\")"
   ]
  }
 ],
 "metadata": {
  "language_info": {
   "name": "python"
  }
 },
 "nbformat": 4,
 "nbformat_minor": 2
}
