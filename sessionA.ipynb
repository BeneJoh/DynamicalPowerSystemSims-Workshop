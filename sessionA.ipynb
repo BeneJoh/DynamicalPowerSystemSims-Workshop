{
 "cells": [
  {
   "cell_type": "markdown",
   "metadata": {},
   "source": [
    "# PhD Retreat 2024: Dynamical Systems Workshop\n",
    "## Part A: Single machine infinite bus "
   ]
  },
  {
   "cell_type": "markdown",
   "metadata": {},
   "source": [
    "### The model\n",
    "In the *single-machine-infinite-bus* model, grid dynamics stay unaffected by the one considered oscillator. The differential equation (for states $(\\varphi, \\omega)\\in [0, 2\\pi) \\times \\mathbb{R}$ in the co-rotating reference frame) reads\n",
    "$$\\begin{align*}\n",
    "\\frac{\\mathrm{d}\\varphi}{\\mathrm{d}t} &= \\omega \\\\\n",
    "\\frac{\\mathrm{d}\\omega}{\\mathrm{d}t} &= P/M - \\omega D/M - K/M \\sin(\\varphi)\n",
    "\\end{align*}$$\n",
    "with locally produced/consumed power $P$, mass $M$, damping factor $D$, and coupling $K$. The cell below integrates the system from $t_0 = 0$ to $t = 2$. "
   ]
  },
  {
   "cell_type": "code",
   "execution_count": null,
   "metadata": {},
   "outputs": [],
   "source": [
    "import numpy as np\n",
    "import matplotlib.pyplot as plt \n",
    "from scipy.integrate import solve_ivp\n",
    "from source.coupled_swing_systems import SmibSystem\n",
    "\n",
    "\n",
    "# System parameters (intertia, damping, power injection, coupling)\n",
    "M = 0.1; D = 0.05; P = 0.3; K = 1.0 # or  M = 0.02; D = 20; P = 5; K = 400.0\n"
   ]
  },
  {
   "cell_type": "markdown",
   "metadata": {},
   "source": [
    "\n",
    "### Exercise 1a\n",
    "1. Study the system behaviour for different combinations of parameters $(D, P, K)$\n",
    "2. Try to find a combination for which the system does not oscillate.\n",
    "3. Observe relaxation behaviour from different initial conditions $x_0 = (\\varphi_0, \\omega_0)\\in [0, 2\\pi) \\times \\mathbb{R}$ (e.g. $x_0 = ()$ or $()$). "
   ]
  },
  {
   "cell_type": "code",
   "execution_count": null,
   "metadata": {},
   "outputs": [],
   "source": [
    "\n",
    "# Simulation parameters\n",
    "t_span = (0.0, 2.0) # time span for the simulation\n",
    "t_eval = np.linspace(t_span[0], t_span[1], 3000)\n",
    "\n",
    "# Stable Steady state value\n",
    "u_eq = [np.arcsin(P / K), 0.]\n",
    "\n",
    "# Problem definition\n",
    "problem = SmibSystem(M, D, P, K) # define ode problem\n",
    "\n",
    "# Simulate stable trajectory\n",
    "u_init = [u_eq[0]+0.1, -.2] # initial conditions\n",
    "solution = solve_ivp(problem, t_span, u_init, t_eval=t_eval)\n",
    "\n",
    "# Plotting stable trajectory\n",
    "fig, ax = plt.subplots()\n",
    "ax.plot(solution.t, solution.y[1,:], label=r'$\\varphi$')\n",
    "fig.show()\n",
    "\n"
   ]
  },
  {
   "cell_type": "markdown",
   "metadata": {},
   "source": [
    "### Exercise 2\n",
    "Plot the phase portrait"
   ]
  },
  {
   "cell_type": "code",
   "execution_count": null,
   "metadata": {},
   "outputs": [],
   "source": [
    "from source.utils import create_2Dphaseportrait\n",
    "\n",
    "# Plot the phase portrait\n",
    "phi_lims = (-np.pi, np.pi) + u_eq[0]; omega_lims = (-10, 10)\n",
    "X, Y, U, V = create_2Dphaseportrait(problem, phi_lims, omega_lims, 0.0, N=50, normalize=False)\n",
    "\n"
   ]
  },
  {
   "cell_type": "markdown",
   "metadata": {},
   "source": [
    "### Linear stability analysis \n",
    "[Eigenvalues and Eigenvectors in Python](https://pythonnumericalmethods.studentorg.berkeley.edu/notebooks/chapter15.04-Eigenvalues-and-Eigenvectors-in-Python.html)"
   ]
  },
  {
   "cell_type": "markdown",
   "metadata": {},
   "source": []
  }
 ],
 "metadata": {
  "language_info": {
   "name": "python"
  }
 },
 "nbformat": 4,
 "nbformat_minor": 2
}
